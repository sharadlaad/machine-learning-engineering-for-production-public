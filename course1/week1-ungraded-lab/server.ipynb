{
  "nbformat": 4,
  "nbformat_minor": 0,
  "metadata": {
    "kernelspec": {
      "display_name": "Python 3",
      "language": "python",
      "name": "python3"
    },
    "language_info": {
      "codemirror_mode": {
        "name": "ipython",
        "version": 3
      },
      "file_extension": ".py",
      "mimetype": "text/x-python",
      "name": "python",
      "nbconvert_exporter": "python",
      "pygments_lexer": "ipython3",
      "version": "3.7.7"
    },
    "colab": {
      "name": "server.ipynb",
      "provenance": [],
      "include_colab_link": true
    }
  },
  "cells": [
    {
      "cell_type": "markdown",
      "metadata": {
        "id": "view-in-github",
        "colab_type": "text"
      },
      "source": [
        "<a href=\"https://colab.research.google.com/github/sharadlaad/machine-learning-engineering-for-production-public/blob/main/course1/week1-ungraded-lab/server.ipynb\" target=\"_parent\"><img src=\"https://colab.research.google.com/assets/colab-badge.svg\" alt=\"Open In Colab\"/></a>"
      ]
    },
    {
      "cell_type": "markdown",
      "metadata": {
        "id": "F1EPrQljHVLM"
      },
      "source": [
        "<a href=\"https://githubtocolab.com/giswqs/geemap/blob/master/examples/notebooks/35_geemap_colab.ipynb\" target=\"_parent\"><img src=\"https://colab.research.google.com/assets/colab-badge.svg\" alt=\"Open in Colab\"/></a>"
      ]
    },
    {
      "cell_type": "markdown",
      "metadata": {
        "id": "4zLnDnWIHQzK"
      },
      "source": [
        "# Ungraded Lab Part 1 - Deploying a Machine Learning Model\n",
        "\n",
        "Welcome to this ungraded lab! If you are reading this it means you did the setup properly, nice work!\n",
        "\n",
        "This lab is all about deploying a real machine learning model, and checking what doing so feels like. More concretely, you will deploy a computer vision model trained to detect common objects in pictures. Deploying a model is one of the last steps in a prototypical machine learning lifecycle. However, we thought it would be exciting to get you to deploy a model right away. This lab uses a pretrained model called [`YOLOV3`](https://pjreddie.com/darknet/yolo/). This model is very convenient for two reasons: it runs really fast, and for object detection it yields accurate results.\n",
        "\n",
        "The sequence of steps/tasks to complete in this lab are as follow:\n",
        "1. Inspect the image data set used for object detection\n",
        "2. Take a look at the model itself\n",
        "3. Deploy the model using [`fastAPI`](https://fastapi.tiangolo.com/)"
      ]
    },
    {
      "cell_type": "markdown",
      "metadata": {
        "id": "SDKC7N0tHQzY"
      },
      "source": [
        "## Object Detection with YOLOV3\n",
        "\n",
        "### Inspecting the images\n",
        "\n",
        "Let's take a look at the images that will be passed to the YOLOV3 model. This will bring insight on what type of common objects are present for detection. These images are part of the [`ImageNet`](http://www.image-net.org/index) dataset."
      ]
    },
    {
      "cell_type": "code",
      "metadata": {
        "id": "jh0dPfo-HQzb"
      },
      "source": [
        "from IPython.display import Image, display"
      ],
      "execution_count": null,
      "outputs": []
    },
    {
      "cell_type": "code",
      "metadata": {
        "id": "6a5xyOS5HQzg"
      },
      "source": [
        "# Some example images\n",
        "image_files = [\n",
        "    'apple.jpg',\n",
        "    'clock.jpg',\n",
        "    'oranges.jpg',\n",
        "    'car.jpg'\n",
        "]\n",
        "\n",
        "for image_file in image_files:\n",
        "    print(f\"\\nDisplaying image: {image_file}\")\n",
        "    display(Image(filename=f\"images/{image_file}\"))"
      ],
      "execution_count": null,
      "outputs": []
    },
    {
      "cell_type": "markdown",
      "metadata": {
        "id": "UrjHyF_xHQzi"
      },
      "source": [
        "### Overview of the model\n",
        "\n",
        "Now that you have a sense of the image data and the objects present, let's try and see if the model is able to detect and classify them correctly.\n",
        "\n",
        "For this you will be using [`cvlib`](https://www.cvlib.net/), which is a very simple but powerful library for object detection that is fueled by [`OpenCV`](https://docs.opencv.org/4.5.1/) and [`Tensorflow`](https://www.tensorflow.org/).\n",
        "\n",
        "More concretely, you will use the [`detect_common_objects`](https://docs.cvlib.net/object_detection/) function, which takes an image formatted as a [`numpy array`](https://numpy.org/doc/stable/reference/generated/numpy.array.html) and returns:\n",
        "\n",
        "- `bbox`: list of list containing bounding box coordinates for detected objects. \n",
        "\n",
        "        Example:\n",
        "    \n",
        "    ```python\n",
        "        [[32, 76, 128, 192], [130, 83, 220, 185]]\n",
        "    ```\n",
        "    \n",
        "\n",
        "- `label`: list of labels for detected objects.\n",
        "    \n",
        "        Example:\n",
        "    ```python\n",
        "        ['apple', 'apple']\n",
        "    ```\n",
        "\n",
        "\n",
        "- `conf`: list of confidence scores for detected objects.\n",
        "        Example:\n",
        "        \n",
        "    ```python\n",
        "        [0.6187325716018677, 0.42835739254951477]\n",
        "    ```\n",
        "    \n",
        "In the next section you will visually see these elements in action."
      ]
    },
    {
      "cell_type": "markdown",
      "metadata": {
        "id": "Be4fHRKMHQzm"
      },
      "source": [
        "### Creating the detect_and_draw_box function\n",
        "\n",
        "Before using the object detection model, create a directory where you can store the resulting images:\n"
      ]
    },
    {
      "cell_type": "code",
      "metadata": {
        "id": "BPJwY-SfHQzo"
      },
      "source": [
        "import os\n",
        "\n",
        "dir_name = \"images_with_boxes\"\n",
        "if not os.path.exists(dir_name):\n",
        "    os.mkdir(dir_name)"
      ],
      "execution_count": null,
      "outputs": []
    },
    {
      "cell_type": "markdown",
      "metadata": {
        "id": "py3v7QKSHQzq"
      },
      "source": [
        "Let's define the `detect_and_draw_box` function which takes as input arguments: the **filename** of a file on your system, a **model**, and a **confidence level**. With these inputs, it detects common objects in the image and saves a new image displaying the bounding boxes alongside the detected object.\n",
        "\n",
        "You might ask yourself why does this function receive the model as an input argument? What models are there to choose from? The answer is that `detect_common_objects` uses the `yolov3` model by default.  However, there is another option available that is much tinier and requires less computational power. \n",
        "\n",
        "It is the `yolov3-tiny` version. As the model name indicates, this model is designed for constrained environments that cannot store big models. With this comes a natural tradeoff: the results are less accurate than the full model. However, it still works pretty well. Going forward, we recommend you stick to it since it is a lot smaller than the regular `yolov3` and downloading its pretrained weights takes less time.\n",
        "\n",
        "The model output is a vector of probabilities for the presence of different objects on the image. The last input argument, confidence level, determines the threshold that the probability needs to surpass to report that a given object is detected on the supplied image. By default, `detect_common_objects` uses a value of 0.5 for this."
      ]
    },
    {
      "cell_type": "code",
      "metadata": {
        "id": "0mTe3oL8HQz1"
      },
      "source": [
        "import cv2\n",
        "import cvlib as cv\n",
        "from cvlib.object_detection import draw_bbox\n",
        "\n",
        "\n",
        "def detect_and_draw_box(filename, model=\"yolov3-tiny\", confidence=0.5):\n",
        "    \"\"\"Detects common objects on an image and creates a new image with bounding boxes.\n",
        "\n",
        "    Args:\n",
        "        filename (str): Filename of the image.\n",
        "        model (str): Either \"yolov3\" or \"yolov3-tiny\". Defaults to \"yolov3-tiny\".\n",
        "        confidence (float, optional): Desired confidence level. Defaults to 0.5.\n",
        "    \"\"\"\n",
        "    \n",
        "    # Images are stored under the images/ directory\n",
        "    img_filepath = f'images/{filename}'\n",
        "    \n",
        "    # Read the image into a numpy array\n",
        "    img = cv2.imread(img_filepath)\n",
        "    \n",
        "    # Perform the object detection\n",
        "    bbox, label, conf = cv.detect_common_objects(img, confidence=confidence, model=model)\n",
        "    \n",
        "    # Print current image's filename\n",
        "    print(f\"========================\\nImage processed: {filename}\\n\")\n",
        "    \n",
        "    # Print detected objects with confidence level\n",
        "    for l, c in zip(label, conf):\n",
        "        print(f\"Detected object: {l} with confidence level of {c}\\n\")\n",
        "    \n",
        "    # Create a new image that includes the bounding boxes\n",
        "    output_image = draw_bbox(img, bbox, label, conf)\n",
        "    \n",
        "    # Save the image in the directory images_with_boxes\n",
        "    cv2.imwrite(f'images_with_boxes/{filename}', output_image)\n",
        "    \n",
        "    # Display the image with bounding boxes\n",
        "    display(Image(f'images_with_boxes/{filename}'))"
      ],
      "execution_count": null,
      "outputs": []
    },
    {
      "cell_type": "markdown",
      "metadata": {
        "id": "Mt9TGDs2HQz5"
      },
      "source": [
        "Let's try it out for the example images."
      ]
    },
    {
      "cell_type": "code",
      "metadata": {
        "id": "ryaiJRFQHQz6"
      },
      "source": [
        "for image_file in image_files:\n",
        "    detect_and_draw_box(image_file)"
      ],
      "execution_count": null,
      "outputs": []
    },
    {
      "cell_type": "markdown",
      "metadata": {
        "id": "AESDAI10HQz7"
      },
      "source": [
        "## Changing the confidence level\n",
        "\n",
        "Looks like the object detection went fairly well. Let's try it out on a more difficult image containing several objects:"
      ]
    },
    {
      "cell_type": "code",
      "metadata": {
        "id": "A-8JYyIVHQz9"
      },
      "source": [
        "detect_and_draw_box(\"fruits.jpg\")"
      ],
      "execution_count": null,
      "outputs": []
    },
    {
      "cell_type": "markdown",
      "metadata": {
        "id": "RhcGibxQHQz-"
      },
      "source": [
        "The **model failed to detect** several fruits and **misclassified** an orange as an apple. This might seem strange since it was able to detect one apple before, so one might think the model has a fair representation on how an apple looks like.\n",
        "\n",
        "One possibility is that the model **did** detect the other fruits but with a confidence level lower than 0.5. Let's test if  this is a valid hypothesis:"
      ]
    },
    {
      "cell_type": "code",
      "metadata": {
        "id": "F59Py4aSHQz_"
      },
      "source": [
        "detect_and_draw_box(\"fruits.jpg\", confidence=0.2)"
      ],
      "execution_count": null,
      "outputs": []
    },
    {
      "cell_type": "markdown",
      "metadata": {
        "id": "gxg1Hy0JHQz_"
      },
      "source": [
        "By lowering the confidence level the model successfully detects most of the fruits. However, in order to correctly detect the objects present, we had to  set the confidence level really low. In general, you should be careful when decreasing or increasing these kinds of parameters, as changing them might yield undesired results.\n",
        "\n",
        "As for this concrete example when an orange was misclassified as an apple, it serves as a reminder that these models are not perfect and this should be considered when using them for tasks in production."
      ]
    },
    {
      "cell_type": "markdown",
      "metadata": {
        "id": "ocq3FaKQHQ0B"
      },
      "source": [
        "## Deploying the model using fastAPI\n",
        "\n",
        "\n",
        "### Placing your object detection model in a server\n",
        "\n",
        "Now that you know how the model works it is time for you to deploy it! Aren't you excited? :)\n",
        "\n",
        "Before diving into deployment, let's quickly recap some important concepts and how they translate to `fastAPI`. Let's also create a directory to store the images that are uploaded to the server.\n"
      ]
    },
    {
      "cell_type": "code",
      "metadata": {
        "id": "kMilwq0oHQ0C"
      },
      "source": [
        "dir_name = \"images_uploaded\"\n",
        "if not os.path.exists(dir_name):\n",
        "    os.mkdir(dir_name)"
      ],
      "execution_count": null,
      "outputs": []
    },
    {
      "cell_type": "markdown",
      "metadata": {
        "id": "XRk7QwfMHQ0D"
      },
      "source": [
        "### Some concept clarifications\n",
        "\n",
        "#### Client-Server model\n",
        "\n",
        "When talking about **deploying**, what is usually meant is to put all of the software required for predicting in a `server`. By doing this, a `client` can interact with the model by sending `requests` to the server. \n",
        "\n",
        "This client-server interaction is out of the scope of this notebook but there are a lot of resources on the internet that you can use to understand it better.\n",
        "\n",
        "The important thing you need to focus on, is that the Machine Learning model lives in a server waiting for clients to submit prediction requests. The client should provide the required information that the model needs in order to make a prediction. Keep in mind that it is common to batch many predictions in a single request. The server will use the information provided to return predictions to the client, who can then use them at their leisure.\n",
        "\n",
        "Let's get started by creating an instance of the `FastAPI` class:\n",
        "\n",
        "```python\n",
        "app = FastAPI()\n",
        "```\n",
        "\n",
        "The next step is using this instance to create endpoints that will handle the logic for predicting (more on this next). Once all the code is in place to run the server you only need to use the command:\n",
        "\n",
        "```python\n",
        "uvicorn.run(app)\n",
        "```\n",
        "\n",
        "Your API is coded using fastAPI but the serving is done using [`uvicorn`](https://www.uvicorn.org/), which is a really fast Asynchronous Server Gateway Interface (ASGI) implementation. Both technologies are closely interconnected and you don't need to understand the implementation details. Knowing that uvicorn handles the serving is sufficient for the purpose of this lab.\n",
        "\n",
        "#### Endpoints\n",
        "\n",
        "You can host multiple Machine Learning models on the same server. For this to work, you can assign a different `endpoint` to each model so you always know what model is being used. An endpoint is represented by a pattern in the `URL`. For example, if you have a website called `myawesomemodel.com` you could have three different models in the following endpoints:\n",
        "\n",
        "- `myawesomemodel.com/count-cars/`\n",
        "- `myawesomemodel.com/count-apples/`\n",
        "- `myawesomemodel.com/count-plants/`\n",
        "\n",
        "Each model would do what the name pattern suggests.\n",
        "\n",
        "In fastAPI you define an endpoint by creating a function that will handle all of the logic for that endpoint and [decorating](https://www.python.org/dev/peps/pep-0318/) it with a function that contains information on the HTTP method allowed (more on this next) and the pattern in the URL that it will use.\n",
        "\n",
        "The following example shows how to allow a HTTP GET request for the endpoint \"/my-endpoint\":\n",
        "\n",
        "```python\n",
        "@app.get(\"/my-endpoint\")\n",
        "def handle_endpoint():\n",
        "    ...\n",
        "    ...\n",
        "```\n",
        "\n",
        "\n",
        "#### HTTP Requests\n",
        "\n",
        "The client and the server communicate with each other through a protocol called `HTTP`. The key concept here is that this communication between client and server uses some verbs to denote common actions. Two very common verbs are:\n",
        "\n",
        "- `GET` -> Retrieves information from the server.\n",
        "- `POST` -> Provides information to the server, which it uses to respond.\n",
        "\n",
        "If your client does a `GET request` to an endpoint of a server you will get some information from this endpoint without the need to provide additional information. In the case of a `POST request` you are explicitly telling the server that you will provide some information for it that must be processed in some way.\n",
        "\n",
        "Interactions with Machine Learning models living on endpoints are usually done via a `POST request` since you need to provide the information that is required to compute a prediction.\n",
        "\n",
        "Let's take a look at a POST request:\n",
        "\n",
        "```python\n",
        "@app.post(\"/my-other-endpoint\")\n",
        "def handle_other_endpoint(param1: int, param2: str):\n",
        "    ...\n",
        "    ...\n",
        "\n",
        "```\n",
        "\n",
        "For POST requests, the handler function contains parameters. In contrast with GET, POST requests expect the client to provide some information to it. In this case we supplied two parameters: an integer and a string.\n",
        "\n",
        "\n",
        "### Why fastAPI?\n",
        "\n",
        "With fastAPI you can create web servers to host your models very easily. Additionally, this platform is extremely fast and it **has a built-in client that can be used to interact with the server**. To use it you will need to visit the \"/docs\" endpoint, for this case this means to visit http://localhost:8000/docs. Isn't that convenient?\n",
        "\n",
        "Enough chatter, let's get going!"
      ]
    },
    {
      "cell_type": "code",
      "metadata": {
        "id": "LdHHoWQsHQ0F"
      },
      "source": [
        "import io\n",
        "import uvicorn\n",
        "import numpy as np\n",
        "import nest_asyncio\n",
        "from enum import Enum\n",
        "from fastapi import FastAPI, UploadFile, File, HTTPException\n",
        "from fastapi.responses import StreamingResponse"
      ],
      "execution_count": null,
      "outputs": []
    },
    {
      "cell_type": "code",
      "metadata": {
        "id": "MvlNTpuZHQ0H"
      },
      "source": [
        "# Assign an instance of the FastAPI class to the variable \"app\".\n",
        "# You will interact with your api using this instance.\n",
        "app = FastAPI(title='Deploying a ML Model with FastAPI')\n",
        "\n",
        "# List available models using Enum for convenience. This is useful when the options are pre-defined.\n",
        "class Model(str, Enum):\n",
        "    yolov3tiny = \"yolov3-tiny\"\n",
        "    yolov3 = \"yolov3\"\n",
        "\n",
        "\n",
        "# By using @app.get(\"/\") you are allowing the GET method to work for the / endpoint.\n",
        "@app.get(\"/\")\n",
        "def home():\n",
        "    return \"Congratulations! Your API is working as expected. Now head over to http://localhost:8000/docs.\"\n",
        "\n",
        "\n",
        "# This endpoint handles all the logic necessary for the object detection to work.\n",
        "# It requires the desired model and the image in which to perform object detection.\n",
        "@app.post(\"/predict\") \n",
        "def prediction(model: Model, file: UploadFile = File(...)):\n",
        "\n",
        "    # 1. VALIDATE INPUT FILE\n",
        "    filename = file.filename\n",
        "    fileExtension = filename.split(\".\")[-1] in (\"jpg\", \"jpeg\", \"png\")\n",
        "    if not fileExtension:\n",
        "        raise HTTPException(status_code=415, detail=\"Unsupported file provided.\")\n",
        "    \n",
        "    # 2. TRANSFORM RAW IMAGE INTO CV2 image\n",
        "    \n",
        "    # Read image as a stream of bytes\n",
        "    image_stream = io.BytesIO(file.file.read())\n",
        "    \n",
        "    # Start the stream from the beginning (position zero)\n",
        "    image_stream.seek(0)\n",
        "    \n",
        "    # Write the stream of bytes into a numpy array\n",
        "    file_bytes = np.asarray(bytearray(image_stream.read()), dtype=np.uint8)\n",
        "    \n",
        "    # Decode the numpy array as an image\n",
        "    image = cv2.imdecode(file_bytes, cv2.IMREAD_COLOR)\n",
        "    \n",
        "    \n",
        "    # 3. RUN OBJECT DETECTION MODEL\n",
        "    \n",
        "    # Run object detection\n",
        "    bbox, label, conf = cv.detect_common_objects(image, model=model)\n",
        "    \n",
        "    # Create image that includes bounding boxes and labels\n",
        "    output_image = draw_bbox(image, bbox, label, conf)\n",
        "    \n",
        "    # Save it in a folder within the server\n",
        "    cv2.imwrite(f'images_uploaded/{filename}', output_image)\n",
        "    \n",
        "    \n",
        "    # 4. STREAM THE RESPONSE BACK TO THE CLIENT\n",
        "    \n",
        "    # Open the saved image for reading in binary mode\n",
        "    file_image = open(f'images_uploaded/{filename}', mode=\"rb\")\n",
        "    \n",
        "    # Return the image as a stream specifying media type\n",
        "    return StreamingResponse(file_image, media_type=\"image/jpeg\")"
      ],
      "execution_count": null,
      "outputs": []
    },
    {
      "cell_type": "markdown",
      "metadata": {
        "id": "zu6HG5zkHQ0I"
      },
      "source": [
        "By running the following cell you will spin up the server!\n",
        "\n",
        "This causes the notebook to block (no cells/code can run) until you manually interrupt the kernel. You can do this by clicking on the `Kernel` tab and then on `Interrupt`. You can also enter Jupyter's command mode by pressing the `ESC` key and tapping the `I` key twice."
      ]
    },
    {
      "cell_type": "code",
      "metadata": {
        "id": "9tyPa0fYHQ0J"
      },
      "source": [
        "# Allows the server to be run in this interactive environment\n",
        "nest_asyncio.apply()\n",
        "\n",
        "# Host depends on the setup you selected (docker or virtual env)\n",
        "host = \"0.0.0.0\" if os.getenv(\"DOCKER-SETUP\") else \"127.0.0.1\"\n",
        "\n",
        "# Spin up the server!    \n",
        "uvicorn.run(app, host=host, port=8000)"
      ],
      "execution_count": null,
      "outputs": []
    },
    {
      "cell_type": "markdown",
      "metadata": {
        "id": "WPKmi7bRHQ0K"
      },
      "source": [
        "The server is now running! Head over to [http://localhost:8000/](http://localhost:8000/) to see it in action.\n",
        "\n",
        "**Try submitting an image** and see how your API is able to detect objects within it and return a new image containing the bounding boxes alongside the labels of the detected objects. **You can do this by  visiting [http://localhost:8000/docs](http://localhost:8000/docs) to open fastAPI's built-in client.** \n",
        "\n",
        "When doing so you will get a screen that should look like the one below, follow the instructions next:"
      ]
    },
    {
      "cell_type": "markdown",
      "metadata": {
        "id": "DKpH8JjUHQ0L"
      },
      "source": [
        "Click on top of the `/predict` endpoint and more options will become visible:"
      ]
    },
    {
      "cell_type": "markdown",
      "metadata": {
        "id": "4zpKCuc_HQ0L"
      },
      "source": [
        "![image.png](attachment:image.png)\n",
        "\n"
      ]
    },
    {
      "cell_type": "markdown",
      "metadata": {
        "id": "mESp5A0zHQ0M"
      },
      "source": [
        "To test your server click on the **Try it out** button."
      ]
    },
    {
      "cell_type": "markdown",
      "metadata": {
        "id": "is13HHkNHQ0M"
      },
      "source": [
        "![image.png](attachment:image.png)"
      ]
    },
    {
      "cell_type": "markdown",
      "metadata": {
        "id": "qX7N_vgCHQ0N"
      },
      "source": [
        "You can choose a model from the **model** field (if you select the full YOLO model the server will be stuck until the weights for this model are downloaded) and a **file** which should be the image in which you want the server to detect objects.\n",
        "\n",
        "**Submit an image** from your local filesystem by clicking the **Choose File** button, then click on the blue **Execute** button to send an HTTP request to the server. After doing so, **scroll down and you will see the response from it**. Pretty cool, right?"
      ]
    },
    {
      "cell_type": "markdown",
      "metadata": {
        "id": "htdcu082HQ0N"
      },
      "source": [
        "![image.png](attachment:image.png)"
      ]
    },
    {
      "cell_type": "markdown",
      "metadata": {
        "id": "raOV4tb0HQ0O"
      },
      "source": [
        "**Try different images!** You can use the ones we provided with this lab or some of your own. Since the model is using the default confidence level of 0.5 it might not always succeed to detect some objects. \n",
        "\n",
        "Also, try submitting non-image files and see how the server reacts to it."
      ]
    },
    {
      "cell_type": "markdown",
      "metadata": {
        "id": "SQ8vtGGVHQ0O"
      },
      "source": [
        "## Consuming your model from another client\n",
        "\n",
        "It is awesome that fastAPI allows you to interact with your API through its built-in client. However, you might wonder how you can interact with your API using regular code and not some UI.\n",
        "\n",
        "To do so, we have also provided a notebook in which you can check how a minimal client in Python looks like. For this, **leave the server running (don't interrupt the kernel or close this window)** and open the `client.ipynb` notebook. To do so you can open the File Browser tab on the sidebar located on the left of the window and double click on `client.ipynb`. If you cannot see a different tab for each file (which is very useful for moving between them) then it is possible you have the \"Simple Interface\" (aka Single-Document) mode enabled. To disable it you can go to the View tab and do so.\n",
        "\n",
        "There is also an optional challenge ahead!"
      ]
    }
  ]
}